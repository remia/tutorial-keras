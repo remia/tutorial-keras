{
 "cells": [
  {
   "cell_type": "code",
   "execution_count": 7,
   "metadata": {},
   "outputs": [],
   "source": [
    "%matplotlib inline\n",
    "\n",
    "import os\n",
    "import matplotlib\n",
    "import matplotlib.pyplot as plt\n",
    "from keras import models\n",
    "from keras import layers\n",
    "from keras import optimizers\n",
    "from keras.preprocessing import image\n",
    "from keras.preprocessing.image import ImageDataGenerator"
   ]
  },
  {
   "cell_type": "code",
   "execution_count": 3,
   "metadata": {},
   "outputs": [],
   "source": [
    "base_dir = 'cats_and_dogs_small'\n",
    "train_dir = os.path.join(base_dir, 'train')\n",
    "validation_dir = os.path.join(base_dir, 'validation')\n",
    "test_dir = os.path.join(base_dir, 'test')\n",
    "train_cats_dir = os.path.join(train_dir, 'cats')\n",
    "train_dogs_dir = os.path.join(train_dir, 'dogs')\n",
    "validation_cats_dir = os.path.join(validation_dir, 'cats')\n",
    "validation_dogs_dir = os.path.join(validation_dir, 'dogs')\n",
    "test_cats_dir = os.path.join(test_dir, 'cats')\n",
    "test_dogs_dir = os.path.join(test_dir, 'dogs')"
   ]
  },
  {
   "cell_type": "code",
   "execution_count": 4,
   "metadata": {},
   "outputs": [],
   "source": [
    "def plot_loss(loss_values, val_loss_values):\n",
    "    epochs = range(1, len(loss_values) + 1)\n",
    "\n",
    "    plt.plot(epochs, loss_values, 'bo', label='Training loss')\n",
    "    plt.plot(epochs, val_loss_values, 'b', label='Validation loss')\n",
    "    plt.title('Training and validation loss')\n",
    "    plt.xlabel('Epochs')\n",
    "    plt.ylabel('Loss')\n",
    "    plt.legend()\n",
    "\n",
    "    plt.show()\n",
    "\n",
    "\n",
    "def plot_accuracy(acc, val_acc):\n",
    "    epochs = range(1, len(acc) + 1)\n",
    "\n",
    "    plt.plot(epochs, acc, 'bo', label='Training acc')\n",
    "    plt.plot(epochs, val_acc, 'b', label='Validation acc')\n",
    "    plt.title('Training and validation accuracy')\n",
    "    plt.xlabel('Epochs')\n",
    "    plt.ylabel('Accuracy')\n",
    "    plt.legend()\n",
    "\n",
    "    plt.show()"
   ]
  },
  {
   "cell_type": "code",
   "execution_count": 5,
   "metadata": {},
   "outputs": [
    {
     "name": "stdout",
     "output_type": "stream",
     "text": [
      "_________________________________________________________________\n",
      "Layer (type)                 Output Shape              Param #   \n",
      "=================================================================\n",
      "conv2d_9 (Conv2D)            (None, 148, 148, 32)      896       \n",
      "_________________________________________________________________\n",
      "max_pooling2d_9 (MaxPooling2 (None, 74, 74, 32)        0         \n",
      "_________________________________________________________________\n",
      "conv2d_10 (Conv2D)           (None, 72, 72, 64)        18496     \n",
      "_________________________________________________________________\n",
      "max_pooling2d_10 (MaxPooling (None, 36, 36, 64)        0         \n",
      "_________________________________________________________________\n",
      "conv2d_11 (Conv2D)           (None, 34, 34, 128)       73856     \n",
      "_________________________________________________________________\n",
      "max_pooling2d_11 (MaxPooling (None, 17, 17, 128)       0         \n",
      "_________________________________________________________________\n",
      "conv2d_12 (Conv2D)           (None, 15, 15, 128)       147584    \n",
      "_________________________________________________________________\n",
      "max_pooling2d_12 (MaxPooling (None, 7, 7, 128)         0         \n",
      "_________________________________________________________________\n",
      "flatten_3 (Flatten)          (None, 6272)              0         \n",
      "_________________________________________________________________\n",
      "dense_5 (Dense)              (None, 512)               3211776   \n",
      "_________________________________________________________________\n",
      "dense_6 (Dense)              (None, 1)                 513       \n",
      "=================================================================\n",
      "Total params: 3,453,121\n",
      "Trainable params: 3,453,121\n",
      "Non-trainable params: 0\n",
      "_________________________________________________________________\n"
     ]
    }
   ],
   "source": [
    "if __name__ == \"__main__\":\n",
    "\n",
    "    model = models.Sequential()\n",
    "    model.add(layers.Conv2D(32, (3, 3), activation='relu',\n",
    "            input_shape=(150, 150, 3)))\n",
    "    model.add(layers.MaxPooling2D((2, 2)))\n",
    "    model.add(layers.Conv2D(64, (3, 3), activation='relu'))\n",
    "    model.add(layers.MaxPooling2D((2, 2)))\n",
    "    model.add(layers.Conv2D(128, (3, 3), activation='relu'))\n",
    "    model.add(layers.MaxPooling2D((2, 2)))\n",
    "    model.add(layers.Conv2D(128, (3, 3), activation='relu'))\n",
    "    model.add(layers.MaxPooling2D((2, 2)))\n",
    "    model.add(layers.Flatten())\n",
    "    model.add(layers.Dense(512, activation='relu'))\n",
    "    model.add(layers.Dense(1, activation='sigmoid'))\n",
    "\n",
    "    model.summary()\n",
    "\n",
    "    model.compile(loss='binary_crossentropy',\n",
    "                optimizer=optimizers.RMSprop(lr=1e-4),\n",
    "                metrics=['acc'])"
   ]
  },
  {
   "cell_type": "code",
   "execution_count": 6,
   "metadata": {},
   "outputs": [
    {
     "name": "stdout",
     "output_type": "stream",
     "text": [
      "Found 2000 images belonging to 2 classes.\n",
      "Found 1000 images belonging to 2 classes.\n",
      "Found 1000 images belonging to 2 classes.\n",
      "Epoch 1/30\n",
      "100/100 [==============================] - 9s 89ms/step - loss: 0.6892 - acc: 0.5500 - val_loss: 0.6794 - val_acc: 0.5150\n",
      "Epoch 2/30\n",
      "100/100 [==============================] - 8s 82ms/step - loss: 0.6630 - acc: 0.6020 - val_loss: 0.6431 - val_acc: 0.6300\n",
      "Epoch 3/30\n",
      "100/100 [==============================] - 8s 81ms/step - loss: 0.6152 - acc: 0.6685 - val_loss: 0.6162 - val_acc: 0.6580\n",
      "Epoch 4/30\n",
      "100/100 [==============================] - 8s 82ms/step - loss: 0.5670 - acc: 0.7035 - val_loss: 0.5886 - val_acc: 0.6840\n",
      "Epoch 5/30\n",
      "100/100 [==============================] - 8s 82ms/step - loss: 0.5342 - acc: 0.7220 - val_loss: 0.5909 - val_acc: 0.6870\n",
      "Epoch 6/30\n",
      "100/100 [==============================] - 8s 78ms/step - loss: 0.5096 - acc: 0.7450 - val_loss: 0.5774 - val_acc: 0.6980\n",
      "Epoch 7/30\n",
      "100/100 [==============================] - 8s 81ms/step - loss: 0.4842 - acc: 0.7580 - val_loss: 0.6890 - val_acc: 0.6440\n",
      "Epoch 8/30\n",
      "100/100 [==============================] - 8s 80ms/step - loss: 0.4575 - acc: 0.7760 - val_loss: 0.5756 - val_acc: 0.7040\n",
      "Epoch 9/30\n",
      "100/100 [==============================] - 8s 85ms/step - loss: 0.4284 - acc: 0.8025 - val_loss: 0.7569 - val_acc: 0.6490\n",
      "Epoch 10/30\n",
      "100/100 [==============================] - 8s 83ms/step - loss: 0.4025 - acc: 0.8160 - val_loss: 0.5564 - val_acc: 0.7160\n",
      "Epoch 11/30\n",
      "100/100 [==============================] - 8s 79ms/step - loss: 0.3805 - acc: 0.8360 - val_loss: 0.5384 - val_acc: 0.7440\n",
      "Epoch 12/30\n",
      "100/100 [==============================] - 8s 82ms/step - loss: 0.3655 - acc: 0.8425 - val_loss: 0.5382 - val_acc: 0.7390\n",
      "Epoch 13/30\n",
      "100/100 [==============================] - 8s 81ms/step - loss: 0.3309 - acc: 0.8650 - val_loss: 0.5706 - val_acc: 0.7260\n",
      "Epoch 14/30\n",
      "100/100 [==============================] - 8s 81ms/step - loss: 0.3127 - acc: 0.8615 - val_loss: 0.5543 - val_acc: 0.7410\n",
      "Epoch 15/30\n",
      "100/100 [==============================] - 9s 89ms/step - loss: 0.2916 - acc: 0.8805 - val_loss: 0.5834 - val_acc: 0.7330\n",
      "Epoch 16/30\n",
      "100/100 [==============================] - 8s 78ms/step - loss: 0.2624 - acc: 0.8995 - val_loss: 0.5864 - val_acc: 0.7450\n",
      "Epoch 17/30\n",
      "100/100 [==============================] - 8s 84ms/step - loss: 0.2468 - acc: 0.9080 - val_loss: 0.5987 - val_acc: 0.7380\n",
      "Epoch 18/30\n",
      "100/100 [==============================] - 8s 82ms/step - loss: 0.2146 - acc: 0.9125 - val_loss: 0.6231 - val_acc: 0.7420\n",
      "Epoch 19/30\n",
      "100/100 [==============================] - 8s 80ms/step - loss: 0.1978 - acc: 0.9255 - val_loss: 0.6343 - val_acc: 0.7480\n",
      "Epoch 20/30\n",
      "100/100 [==============================] - 8s 81ms/step - loss: 0.1765 - acc: 0.9400 - val_loss: 0.6744 - val_acc: 0.7400\n",
      "Epoch 21/30\n",
      "100/100 [==============================] - 8s 79ms/step - loss: 0.1628 - acc: 0.9435 - val_loss: 0.6978 - val_acc: 0.7330\n",
      "Epoch 22/30\n",
      "100/100 [==============================] - 8s 80ms/step - loss: 0.1431 - acc: 0.9465 - val_loss: 0.7059 - val_acc: 0.7370\n",
      "Epoch 23/30\n",
      "100/100 [==============================] - 8s 79ms/step - loss: 0.1249 - acc: 0.9640 - val_loss: 0.7019 - val_acc: 0.7400\n",
      "Epoch 24/30\n",
      "100/100 [==============================] - 8s 78ms/step - loss: 0.1099 - acc: 0.9675 - val_loss: 0.7089 - val_acc: 0.7480\n",
      "Epoch 25/30\n",
      "100/100 [==============================] - 8s 79ms/step - loss: 0.0975 - acc: 0.9715 - val_loss: 0.7651 - val_acc: 0.7510\n",
      "Epoch 26/30\n",
      "100/100 [==============================] - 8s 79ms/step - loss: 0.0850 - acc: 0.9750 - val_loss: 0.8155 - val_acc: 0.7300\n",
      "Epoch 27/30\n",
      "100/100 [==============================] - 8s 79ms/step - loss: 0.0725 - acc: 0.9815 - val_loss: 0.8828 - val_acc: 0.7370\n",
      "Epoch 28/30\n",
      "100/100 [==============================] - 8s 83ms/step - loss: 0.0603 - acc: 0.9855 - val_loss: 0.8803 - val_acc: 0.7500\n",
      "Epoch 29/30\n",
      "100/100 [==============================] - 8s 79ms/step - loss: 0.0531 - acc: 0.9845 - val_loss: 0.8993 - val_acc: 0.7470\n",
      "Epoch 30/30\n",
      "100/100 [==============================] - 8s 83ms/step - loss: 0.0467 - acc: 0.9870 - val_loss: 0.9409 - val_acc: 0.7410\n"
     ]
    }
   ],
   "source": [
    "    train_datagen = ImageDataGenerator(rescale=1./255)\n",
    "    test_datagen = ImageDataGenerator(rescale=1./255)\n",
    "\n",
    "    train_generator = train_datagen.flow_from_directory(\n",
    "        train_dir,\n",
    "        target_size=(150, 150),\n",
    "        batch_size=20,\n",
    "        class_mode='binary')\n",
    "\n",
    "    validation_generator = test_datagen.flow_from_directory(\n",
    "        validation_dir,\n",
    "        target_size=(150, 150),\n",
    "        batch_size=20,\n",
    "        class_mode='binary')\n",
    "\n",
    "    test_generator = test_datagen.flow_from_directory(\n",
    "        validation_dir,\n",
    "        target_size=(150, 150),\n",
    "        batch_size=20,\n",
    "        class_mode='binary')\n",
    "\n",
    "    history = model.fit_generator(\n",
    "        train_generator,\n",
    "        steps_per_epoch=100,\n",
    "        epochs=30,\n",
    "        validation_data=validation_generator,\n",
    "        validation_steps=50\n",
    "    )\n",
    "\n",
    "    model.save('cats_and_dogs_small_1.h5')"
   ]
  },
  {
   "cell_type": "code",
   "execution_count": 9,
   "metadata": {},
   "outputs": [
    {
     "data": {
      "image/png": "[encoded data removed]",
      "text/plain": [
       "<Figure size 432x288 with 1 Axes>"
      ]
     },
     "metadata": {},
     "output_type": "display_data"
    },
    {
     "data": {
      "image/png": "[encoded data removed]",
      "text/plain": [
       "<Figure size 432x288 with 1 Axes>"
      ]
     },
     "metadata": {},
     "output_type": "display_data"
    }
   ],
   "source": [
    "    # model.load_weights('cats_and_dogs_small_1.h5')\n",
    "    # loss, acc = model.evaluate_generator(test_generator, steps=50)\n",
    "    # print(acc)\n",
    "\n",
    "    history_dict = history.history\n",
    "    plot_loss(history_dict['loss'], history_dict['val_loss'])\n",
    "    plt.clf()\n",
    "    plot_accuracy(history_dict['acc'], history_dict['val_acc'])"
   ]
  },
  {
   "cell_type": "code",
   "execution_count": null,
   "metadata": {},
   "outputs": [],
   "source": []
  }
 ],
 "metadata": {
  "kernelspec": {
   "display_name": "Environment (conda_tensorflow_p36)",
   "language": "python",
   "name": "conda_tensorflow_p36"
  },
  "language_info": {
   "codemirror_mode": {
    "name": "ipython",
    "version": 3
   },
   "file_extension": ".py",
   "mimetype": "text/x-python",
   "name": "python",
   "nbconvert_exporter": "python",
   "pygments_lexer": "ipython3",
   "version": "3.6.5"
  }
 },
 "nbformat": 4,
 "nbformat_minor": 2
}
